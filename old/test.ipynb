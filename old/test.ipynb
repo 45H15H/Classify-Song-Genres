{
 "cells": [
  {
   "cell_type": "code",
   "execution_count": 1,
   "metadata": {},
   "outputs": [
    {
     "name": "stdout",
     "output_type": "stream",
     "text": [
      "BQCzNp6ARkPvu-4d1Ksk6mTWPSdj_nPvetIPtucZ3b6coaACxl4jQOZ2YbYjV7riDoPH3no-0N32hXy8kxxM5VDGI57xYRRPy3xlNuNVJt4j0RVczYw\n"
     ]
    }
   ],
   "source": [
    "import requests\n",
    "\n",
    "url = \"https://accounts.spotify.com/api/token\"\n",
    "headers = {\"Content-Type\": \"application/x-www-form-urlencoded\"}\n",
    "data = {\"grant_type\": \"client_credentials\", \"client_id\": \"d3d542b505d2433a81c7ab427116ec12\",\n",
    "        \"client_secret\": \"ef29e62488f64a13b317ffedd4b07ac4\"}\n",
    "\n",
    "response = requests.post(url, headers=headers, data=data)\n",
    "\n",
    "access_token = response.json()[\"access_token\"]\n",
    "\n",
    "print(access_token)"
   ]
  },
  {
   "cell_type": "code",
   "execution_count": 4,
   "metadata": {},
   "outputs": [],
   "source": [
    "song_id = \"5cAokEuetqzaLMxhtQl4h2\"\n",
    "\n",
    "features = requests.get(\"https://api.spotify.com/v1/audio-features/{}\".format(song_id),\n",
    "                        headers={\n",
    "    \"Authorization\": \"Bearer {}\".format(access_token)})"
   ]
  },
  {
   "cell_type": "code",
   "execution_count": 7,
   "metadata": {},
   "outputs": [
    {
     "name": "stdout",
     "output_type": "stream",
     "text": [
      "{'danceability': 0.847, 'energy': 0.48, 'key': 9, 'loudness': -5.103, 'mode': 1, 'speechiness': 0.0523, 'acousticness': 0.0729, 'instrumentalness': 3.48e-06, 'liveness': 0.131, 'valence': 0.481, 'tempo': 144.946, 'type': 'audio_features', 'id': '5cAokEuetqzaLMxhtQl4h2', 'uri': 'spotify:track:5cAokEuetqzaLMxhtQl4h2', 'track_href': 'https://api.spotify.com/v1/tracks/5cAokEuetqzaLMxhtQl4h2', 'analysis_url': 'https://api.spotify.com/v1/audio-analysis/5cAokEuetqzaLMxhtQl4h2', 'duration_ms': 206787, 'time_signature': 4}\n"
     ]
    }
   ],
   "source": [
    "print(features.json())"
   ]
  },
  {
   "cell_type": "code",
   "execution_count": null,
   "metadata": {},
   "outputs": [],
   "source": []
  }
 ],
 "metadata": {
  "kernelspec": {
   "display_name": ".venv",
   "language": "python",
   "name": "python3"
  },
  "language_info": {
   "codemirror_mode": {
    "name": "ipython",
    "version": 3
   },
   "file_extension": ".py",
   "mimetype": "text/x-python",
   "name": "python",
   "nbconvert_exporter": "python",
   "pygments_lexer": "ipython3",
   "version": "3.10.4"
  },
  "orig_nbformat": 4
 },
 "nbformat": 4,
 "nbformat_minor": 2
}
