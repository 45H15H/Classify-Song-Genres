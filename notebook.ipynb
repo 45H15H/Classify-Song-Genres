{
 "cells": [
  {
   "cell_type": "markdown",
   "metadata": {},
   "source": [
    "### To classify songs into genres based on their features\n"
   ]
  },
  {
   "cell_type": "markdown",
   "metadata": {},
   "source": [
    "#### 1. Prepare the Dataset\n"
   ]
  },
  {
   "cell_type": "code",
   "execution_count": 1,
   "metadata": {},
   "outputs": [],
   "source": [
    "import pandas as pd\n",
    "\n",
    "def fetch_echo_data():\n",
    "    echonest = pd.read_json(r'.\\datasets\\echonest-metrics.json', orient='columns')\n",
    "    rock_vs_hiphop = pd.read_csv(r'.\\datasets\\fma-rock-vs-hiphop.csv')\n",
    "    echo_tracks = pd.merge(echonest, rock_vs_hiphop[['track_id', 'genre_top']], on='track_id')\n",
    "    return echo_tracks"
   ]
  },
  {
   "cell_type": "markdown",
   "metadata": {},
   "source": [
    "#### 2. Take a Quick Look at the Data Structure\n"
   ]
  },
  {
   "cell_type": "code",
   "execution_count": 3,
   "metadata": {},
   "outputs": [],
   "source": [
    "tracks = fetch_echo_data()"
   ]
  },
  {
   "cell_type": "code",
   "execution_count": 4,
   "metadata": {},
   "outputs": [
    {
     "data": {
      "text/html": [
       "<div>\n",
       "<style scoped>\n",
       "    .dataframe tbody tr th:only-of-type {\n",
       "        vertical-align: middle;\n",
       "    }\n",
       "\n",
       "    .dataframe tbody tr th {\n",
       "        vertical-align: top;\n",
       "    }\n",
       "\n",
       "    .dataframe thead th {\n",
       "        text-align: right;\n",
       "    }\n",
       "</style>\n",
       "<table border=\"1\" class=\"dataframe\">\n",
       "  <thead>\n",
       "    <tr style=\"text-align: right;\">\n",
       "      <th></th>\n",
       "      <th>track_id</th>\n",
       "      <th>acousticness</th>\n",
       "      <th>danceability</th>\n",
       "      <th>energy</th>\n",
       "      <th>instrumentalness</th>\n",
       "      <th>liveness</th>\n",
       "      <th>speechiness</th>\n",
       "      <th>tempo</th>\n",
       "      <th>valence</th>\n",
       "      <th>genre_top</th>\n",
       "    </tr>\n",
       "  </thead>\n",
       "  <tbody>\n",
       "    <tr>\n",
       "      <th>0</th>\n",
       "      <td>2</td>\n",
       "      <td>0.416675</td>\n",
       "      <td>0.675894</td>\n",
       "      <td>0.634476</td>\n",
       "      <td>0.010628</td>\n",
       "      <td>0.177647</td>\n",
       "      <td>0.159310</td>\n",
       "      <td>165.922</td>\n",
       "      <td>0.576661</td>\n",
       "      <td>Hip-Hop</td>\n",
       "    </tr>\n",
       "    <tr>\n",
       "      <th>1</th>\n",
       "      <td>3</td>\n",
       "      <td>0.374408</td>\n",
       "      <td>0.528643</td>\n",
       "      <td>0.817461</td>\n",
       "      <td>0.001851</td>\n",
       "      <td>0.105880</td>\n",
       "      <td>0.461818</td>\n",
       "      <td>126.957</td>\n",
       "      <td>0.269240</td>\n",
       "      <td>Hip-Hop</td>\n",
       "    </tr>\n",
       "    <tr>\n",
       "      <th>2</th>\n",
       "      <td>5</td>\n",
       "      <td>0.043567</td>\n",
       "      <td>0.745566</td>\n",
       "      <td>0.701470</td>\n",
       "      <td>0.000697</td>\n",
       "      <td>0.373143</td>\n",
       "      <td>0.124595</td>\n",
       "      <td>100.260</td>\n",
       "      <td>0.621661</td>\n",
       "      <td>Hip-Hop</td>\n",
       "    </tr>\n",
       "    <tr>\n",
       "      <th>3</th>\n",
       "      <td>134</td>\n",
       "      <td>0.452217</td>\n",
       "      <td>0.513238</td>\n",
       "      <td>0.560410</td>\n",
       "      <td>0.019443</td>\n",
       "      <td>0.096567</td>\n",
       "      <td>0.525519</td>\n",
       "      <td>114.290</td>\n",
       "      <td>0.894072</td>\n",
       "      <td>Hip-Hop</td>\n",
       "    </tr>\n",
       "    <tr>\n",
       "      <th>4</th>\n",
       "      <td>153</td>\n",
       "      <td>0.988306</td>\n",
       "      <td>0.255661</td>\n",
       "      <td>0.979774</td>\n",
       "      <td>0.973006</td>\n",
       "      <td>0.121342</td>\n",
       "      <td>0.051740</td>\n",
       "      <td>90.241</td>\n",
       "      <td>0.034018</td>\n",
       "      <td>Rock</td>\n",
       "    </tr>\n",
       "  </tbody>\n",
       "</table>\n",
       "</div>"
      ],
      "text/plain": [
       "   track_id  acousticness  danceability    energy  instrumentalness  liveness  \\\n",
       "0         2      0.416675      0.675894  0.634476          0.010628  0.177647   \n",
       "1         3      0.374408      0.528643  0.817461          0.001851  0.105880   \n",
       "2         5      0.043567      0.745566  0.701470          0.000697  0.373143   \n",
       "3       134      0.452217      0.513238  0.560410          0.019443  0.096567   \n",
       "4       153      0.988306      0.255661  0.979774          0.973006  0.121342   \n",
       "\n",
       "   speechiness    tempo   valence genre_top  \n",
       "0     0.159310  165.922  0.576661   Hip-Hop  \n",
       "1     0.461818  126.957  0.269240   Hip-Hop  \n",
       "2     0.124595  100.260  0.621661   Hip-Hop  \n",
       "3     0.525519  114.290  0.894072   Hip-Hop  \n",
       "4     0.051740   90.241  0.034018      Rock  "
      ]
     },
     "execution_count": 4,
     "metadata": {},
     "output_type": "execute_result"
    }
   ],
   "source": [
    "tracks.head()"
   ]
  },
  {
   "cell_type": "code",
   "execution_count": 5,
   "metadata": {},
   "outputs": [
    {
     "name": "stdout",
     "output_type": "stream",
     "text": [
      "<class 'pandas.core.frame.DataFrame'>\n",
      "RangeIndex: 4802 entries, 0 to 4801\n",
      "Data columns (total 10 columns):\n",
      " #   Column            Non-Null Count  Dtype  \n",
      "---  ------            --------------  -----  \n",
      " 0   track_id          4802 non-null   int64  \n",
      " 1   acousticness      4802 non-null   float64\n",
      " 2   danceability      4802 non-null   float64\n",
      " 3   energy            4802 non-null   float64\n",
      " 4   instrumentalness  4802 non-null   float64\n",
      " 5   liveness          4802 non-null   float64\n",
      " 6   speechiness       4802 non-null   float64\n",
      " 7   tempo             4802 non-null   float64\n",
      " 8   valence           4802 non-null   float64\n",
      " 9   genre_top         4802 non-null   object \n",
      "dtypes: float64(8), int64(1), object(1)\n",
      "memory usage: 375.3+ KB\n"
     ]
    }
   ],
   "source": [
    "tracks.info()"
   ]
  },
  {
   "cell_type": "code",
   "execution_count": 6,
   "metadata": {},
   "outputs": [
    {
     "data": {
      "text/html": [
       "<div>\n",
       "<style scoped>\n",
       "    .dataframe tbody tr th:only-of-type {\n",
       "        vertical-align: middle;\n",
       "    }\n",
       "\n",
       "    .dataframe tbody tr th {\n",
       "        vertical-align: top;\n",
       "    }\n",
       "\n",
       "    .dataframe thead th {\n",
       "        text-align: right;\n",
       "    }\n",
       "</style>\n",
       "<table border=\"1\" class=\"dataframe\">\n",
       "  <thead>\n",
       "    <tr style=\"text-align: right;\">\n",
       "      <th></th>\n",
       "      <th>acousticness</th>\n",
       "      <th>danceability</th>\n",
       "      <th>energy</th>\n",
       "      <th>instrumentalness</th>\n",
       "      <th>liveness</th>\n",
       "      <th>speechiness</th>\n",
       "      <th>tempo</th>\n",
       "      <th>valence</th>\n",
       "    </tr>\n",
       "  </thead>\n",
       "  <tbody>\n",
       "    <tr>\n",
       "      <th>count</th>\n",
       "      <td>4.802000e+03</td>\n",
       "      <td>4802.000000</td>\n",
       "      <td>4802.000000</td>\n",
       "      <td>4802.000000</td>\n",
       "      <td>4802.000000</td>\n",
       "      <td>4802.000000</td>\n",
       "      <td>4802.000000</td>\n",
       "      <td>4802.000000</td>\n",
       "    </tr>\n",
       "    <tr>\n",
       "      <th>mean</th>\n",
       "      <td>4.870600e-01</td>\n",
       "      <td>0.436556</td>\n",
       "      <td>0.625126</td>\n",
       "      <td>0.604096</td>\n",
       "      <td>0.187997</td>\n",
       "      <td>0.104877</td>\n",
       "      <td>126.687944</td>\n",
       "      <td>0.453413</td>\n",
       "    </tr>\n",
       "    <tr>\n",
       "      <th>std</th>\n",
       "      <td>3.681396e-01</td>\n",
       "      <td>0.183502</td>\n",
       "      <td>0.244051</td>\n",
       "      <td>0.376487</td>\n",
       "      <td>0.150562</td>\n",
       "      <td>0.145934</td>\n",
       "      <td>34.002473</td>\n",
       "      <td>0.266632</td>\n",
       "    </tr>\n",
       "    <tr>\n",
       "      <th>min</th>\n",
       "      <td>9.491000e-07</td>\n",
       "      <td>0.051307</td>\n",
       "      <td>0.000279</td>\n",
       "      <td>0.000000</td>\n",
       "      <td>0.025297</td>\n",
       "      <td>0.023234</td>\n",
       "      <td>29.093000</td>\n",
       "      <td>0.014392</td>\n",
       "    </tr>\n",
       "    <tr>\n",
       "      <th>25%</th>\n",
       "      <td>8.351236e-02</td>\n",
       "      <td>0.296047</td>\n",
       "      <td>0.450757</td>\n",
       "      <td>0.164972</td>\n",
       "      <td>0.104052</td>\n",
       "      <td>0.036897</td>\n",
       "      <td>98.000750</td>\n",
       "      <td>0.224617</td>\n",
       "    </tr>\n",
       "    <tr>\n",
       "      <th>50%</th>\n",
       "      <td>5.156888e-01</td>\n",
       "      <td>0.419447</td>\n",
       "      <td>0.648374</td>\n",
       "      <td>0.808752</td>\n",
       "      <td>0.123080</td>\n",
       "      <td>0.049594</td>\n",
       "      <td>124.625500</td>\n",
       "      <td>0.446240</td>\n",
       "    </tr>\n",
       "    <tr>\n",
       "      <th>75%</th>\n",
       "      <td>8.555765e-01</td>\n",
       "      <td>0.565339</td>\n",
       "      <td>0.837016</td>\n",
       "      <td>0.915472</td>\n",
       "      <td>0.215151</td>\n",
       "      <td>0.088290</td>\n",
       "      <td>151.450000</td>\n",
       "      <td>0.666914</td>\n",
       "    </tr>\n",
       "    <tr>\n",
       "      <th>max</th>\n",
       "      <td>9.957965e-01</td>\n",
       "      <td>0.961871</td>\n",
       "      <td>0.999768</td>\n",
       "      <td>0.993134</td>\n",
       "      <td>0.971392</td>\n",
       "      <td>0.966177</td>\n",
       "      <td>250.059000</td>\n",
       "      <td>0.983649</td>\n",
       "    </tr>\n",
       "  </tbody>\n",
       "</table>\n",
       "</div>"
      ],
      "text/plain": [
       "       acousticness  danceability       energy  instrumentalness     liveness  \\\n",
       "count  4.802000e+03   4802.000000  4802.000000       4802.000000  4802.000000   \n",
       "mean   4.870600e-01      0.436556     0.625126          0.604096     0.187997   \n",
       "std    3.681396e-01      0.183502     0.244051          0.376487     0.150562   \n",
       "min    9.491000e-07      0.051307     0.000279          0.000000     0.025297   \n",
       "25%    8.351236e-02      0.296047     0.450757          0.164972     0.104052   \n",
       "50%    5.156888e-01      0.419447     0.648374          0.808752     0.123080   \n",
       "75%    8.555765e-01      0.565339     0.837016          0.915472     0.215151   \n",
       "max    9.957965e-01      0.961871     0.999768          0.993134     0.971392   \n",
       "\n",
       "       speechiness        tempo      valence  \n",
       "count  4802.000000  4802.000000  4802.000000  \n",
       "mean      0.104877   126.687944     0.453413  \n",
       "std       0.145934    34.002473     0.266632  \n",
       "min       0.023234    29.093000     0.014392  \n",
       "25%       0.036897    98.000750     0.224617  \n",
       "50%       0.049594   124.625500     0.446240  \n",
       "75%       0.088290   151.450000     0.666914  \n",
       "max       0.966177   250.059000     0.983649  "
      ]
     },
     "execution_count": 6,
     "metadata": {},
     "output_type": "execute_result"
    }
   ],
   "source": [
    "tracks.drop('track_id', axis=1).describe()"
   ]
  },
  {
   "cell_type": "code",
   "execution_count": 7,
   "metadata": {},
   "outputs": [
    {
     "data": {
      "text/plain": [
       "genre_top\n",
       "Rock       3892\n",
       "Hip-Hop     910\n",
       "Name: count, dtype: int64"
      ]
     },
     "execution_count": 7,
     "metadata": {},
     "output_type": "execute_result"
    }
   ],
   "source": [
    "tracks['genre_top'].value_counts()"
   ]
  },
  {
   "cell_type": "markdown",
   "metadata": {},
   "source": [
    "We see that rock class is more than the other class. this may cause the model to be biased towards the rock class.\n"
   ]
  },
  {
   "cell_type": "markdown",
   "metadata": {},
   "source": [
    "##### Plot a Histogram for each Numerical Attribute\n"
   ]
  },
  {
   "cell_type": "code",
   "execution_count": 8,
   "metadata": {},
   "outputs": [
    {
     "data": {
      "image/png": "[encoded data removed]",
      "text/plain": [
       "<Figure size 2000x1500 with 9 Axes>"
      ]
     },
     "metadata": {},
     "output_type": "display_data"
    }
   ],
   "source": [
    "%matplotlib inline\n",
    "import matplotlib.pyplot as plt\n",
    "tracks.drop('track_id', axis=1).hist(bins=50, figsize=(20,15))\n",
    "plt.show()"
   ]
  },
  {
   "cell_type": "markdown",
   "metadata": {},
   "source": [
    "##### Notice a few thins in this histogram:\n",
    "\n",
    "1. The _tempo_ feature has a different scale than the other features. This is a common issue with real-world data, and many algorithms don’t perform well when the input numerical attributes have very different scales.\n",
    "2. many features are tail-heavy. Some extend far to the right of the median, some extend far to the left. This may make it a bit harder for some Machine Learning algorithms to detect patterns.\n"
   ]
  },
  {
   "cell_type": "markdown",
   "metadata": {},
   "source": [
    "##### Pairwise Relationships between Continuous Variables\n"
   ]
  },
  {
   "cell_type": "code",
   "execution_count": 9,
   "metadata": {},
   "outputs": [
    {
     "data": {
      "text/html": [
       "<style type=\"text/css\">\n",
       "#T_70157_row0_col0, #T_70157_row1_col1, #T_70157_row2_col2, #T_70157_row3_col3, #T_70157_row4_col4, #T_70157_row5_col5, #T_70157_row6_col6, #T_70157_row7_col7 {\n",
       "  background-color: #023858;\n",
       "  color: #f1f1f1;\n",
       "}\n",
       "#T_70157_row0_col1 {\n",
       "  background-color: #e0dded;\n",
       "  color: #000000;\n",
       "}\n",
       "#T_70157_row0_col2, #T_70157_row1_col4, #T_70157_row1_col6, #T_70157_row2_col0, #T_70157_row3_col1, #T_70157_row3_col5, #T_70157_row3_col7, #T_70157_row5_col3 {\n",
       "  background-color: #fff7fb;\n",
       "  color: #000000;\n",
       "}\n",
       "#T_70157_row0_col3 {\n",
       "  background-color: #97b7d7;\n",
       "  color: #000000;\n",
       "}\n",
       "#T_70157_row0_col4, #T_70157_row1_col3 {\n",
       "  background-color: #f3edf5;\n",
       "  color: #000000;\n",
       "}\n",
       "#T_70157_row0_col5 {\n",
       "  background-color: #b8c6e0;\n",
       "  color: #000000;\n",
       "}\n",
       "#T_70157_row0_col6 {\n",
       "  background-color: #e1dfed;\n",
       "  color: #000000;\n",
       "}\n",
       "#T_70157_row0_col7 {\n",
       "  background-color: #e2dfee;\n",
       "  color: #000000;\n",
       "}\n",
       "#T_70157_row1_col0, #T_70157_row2_col4, #T_70157_row4_col6, #T_70157_row6_col0 {\n",
       "  background-color: #dcdaeb;\n",
       "  color: #000000;\n",
       "}\n",
       "#T_70157_row1_col2 {\n",
       "  background-color: #fbf3f9;\n",
       "  color: #000000;\n",
       "}\n",
       "#T_70157_row1_col5 {\n",
       "  background-color: #80aed2;\n",
       "  color: #f1f1f1;\n",
       "}\n",
       "#T_70157_row1_col7 {\n",
       "  background-color: #529bc7;\n",
       "  color: #f1f1f1;\n",
       "}\n",
       "#T_70157_row2_col1, #T_70157_row6_col1 {\n",
       "  background-color: #fef6fa;\n",
       "  color: #000000;\n",
       "}\n",
       "#T_70157_row2_col3 {\n",
       "  background-color: #c4cbe3;\n",
       "  color: #000000;\n",
       "}\n",
       "#T_70157_row2_col5 {\n",
       "  background-color: #dedcec;\n",
       "  color: #000000;\n",
       "}\n",
       "#T_70157_row2_col6 {\n",
       "  background-color: #adc1dd;\n",
       "  color: #000000;\n",
       "}\n",
       "#T_70157_row2_col7, #T_70157_row3_col6, #T_70157_row7_col0 {\n",
       "  background-color: #d9d8ea;\n",
       "  color: #000000;\n",
       "}\n",
       "#T_70157_row3_col0, #T_70157_row6_col2 {\n",
       "  background-color: #a7bddb;\n",
       "  color: #000000;\n",
       "}\n",
       "#T_70157_row3_col2 {\n",
       "  background-color: #d2d3e7;\n",
       "  color: #000000;\n",
       "}\n",
       "#T_70157_row3_col4 {\n",
       "  background-color: #fdf5fa;\n",
       "  color: #000000;\n",
       "}\n",
       "#T_70157_row4_col0 {\n",
       "  background-color: #dad9ea;\n",
       "  color: #000000;\n",
       "}\n",
       "#T_70157_row4_col1 {\n",
       "  background-color: #ede8f3;\n",
       "  color: #000000;\n",
       "}\n",
       "#T_70157_row4_col2 {\n",
       "  background-color: #bdc8e1;\n",
       "  color: #000000;\n",
       "}\n",
       "#T_70157_row4_col3, #T_70157_row5_col6 {\n",
       "  background-color: #dbdaeb;\n",
       "  color: #000000;\n",
       "}\n",
       "#T_70157_row4_col5 {\n",
       "  background-color: #c0c9e2;\n",
       "  color: #000000;\n",
       "}\n",
       "#T_70157_row4_col7 {\n",
       "  background-color: #e8e4f0;\n",
       "  color: #000000;\n",
       "}\n",
       "#T_70157_row5_col0, #T_70157_row6_col5 {\n",
       "  background-color: #c8cde4;\n",
       "  color: #000000;\n",
       "}\n",
       "#T_70157_row5_col1 {\n",
       "  background-color: #93b5d6;\n",
       "  color: #000000;\n",
       "}\n",
       "#T_70157_row5_col2, #T_70157_row5_col4 {\n",
       "  background-color: #eae6f1;\n",
       "  color: #000000;\n",
       "}\n",
       "#T_70157_row5_col7 {\n",
       "  background-color: #bfc9e1;\n",
       "  color: #000000;\n",
       "}\n",
       "#T_70157_row6_col3 {\n",
       "  background-color: #c5cce3;\n",
       "  color: #000000;\n",
       "}\n",
       "#T_70157_row6_col4 {\n",
       "  background-color: #f0eaf4;\n",
       "  color: #000000;\n",
       "}\n",
       "#T_70157_row6_col7 {\n",
       "  background-color: #d6d6e9;\n",
       "  color: #000000;\n",
       "}\n",
       "#T_70157_row7_col1 {\n",
       "  background-color: #4c99c5;\n",
       "  color: #f1f1f1;\n",
       "}\n",
       "#T_70157_row7_col2 {\n",
       "  background-color: #d1d2e6;\n",
       "  color: #000000;\n",
       "}\n",
       "#T_70157_row7_col3 {\n",
       "  background-color: #efe9f3;\n",
       "  color: #000000;\n",
       "}\n",
       "#T_70157_row7_col4 {\n",
       "  background-color: #f7f0f7;\n",
       "  color: #000000;\n",
       "}\n",
       "#T_70157_row7_col5 {\n",
       "  background-color: #a5bddb;\n",
       "  color: #000000;\n",
       "}\n",
       "#T_70157_row7_col6 {\n",
       "  background-color: #d3d4e7;\n",
       "  color: #000000;\n",
       "}\n",
       "</style>\n",
       "<table id=\"T_70157\">\n",
       "  <thead>\n",
       "    <tr>\n",
       "      <th class=\"blank level0\" >&nbsp;</th>\n",
       "      <th id=\"T_70157_level0_col0\" class=\"col_heading level0 col0\" >acousticness</th>\n",
       "      <th id=\"T_70157_level0_col1\" class=\"col_heading level0 col1\" >danceability</th>\n",
       "      <th id=\"T_70157_level0_col2\" class=\"col_heading level0 col2\" >energy</th>\n",
       "      <th id=\"T_70157_level0_col3\" class=\"col_heading level0 col3\" >instrumentalness</th>\n",
       "      <th id=\"T_70157_level0_col4\" class=\"col_heading level0 col4\" >liveness</th>\n",
       "      <th id=\"T_70157_level0_col5\" class=\"col_heading level0 col5\" >speechiness</th>\n",
       "      <th id=\"T_70157_level0_col6\" class=\"col_heading level0 col6\" >tempo</th>\n",
       "      <th id=\"T_70157_level0_col7\" class=\"col_heading level0 col7\" >valence</th>\n",
       "    </tr>\n",
       "  </thead>\n",
       "  <tbody>\n",
       "    <tr>\n",
       "      <th id=\"T_70157_level0_row0\" class=\"row_heading level0 row0\" >acousticness</th>\n",
       "      <td id=\"T_70157_row0_col0\" class=\"data row0 col0\" >1.000000</td>\n",
       "      <td id=\"T_70157_row0_col1\" class=\"data row0 col1\" >-0.028954</td>\n",
       "      <td id=\"T_70157_row0_col2\" class=\"data row0 col2\" >-0.281619</td>\n",
       "      <td id=\"T_70157_row0_col3\" class=\"data row0 col3\" >0.194780</td>\n",
       "      <td id=\"T_70157_row0_col4\" class=\"data row0 col4\" >-0.019991</td>\n",
       "      <td id=\"T_70157_row0_col5\" class=\"data row0 col5\" >0.072204</td>\n",
       "      <td id=\"T_70157_row0_col6\" class=\"data row0 col6\" >-0.026310</td>\n",
       "      <td id=\"T_70157_row0_col7\" class=\"data row0 col7\" >-0.013841</td>\n",
       "    </tr>\n",
       "    <tr>\n",
       "      <th id=\"T_70157_level0_row1\" class=\"row_heading level0 row1\" >danceability</th>\n",
       "      <td id=\"T_70157_row1_col0\" class=\"data row1 col0\" >-0.028954</td>\n",
       "      <td id=\"T_70157_row1_col1\" class=\"data row1 col1\" >1.000000</td>\n",
       "      <td id=\"T_70157_row1_col2\" class=\"data row1 col2\" >-0.242032</td>\n",
       "      <td id=\"T_70157_row1_col3\" class=\"data row1 col3\" >-0.255217</td>\n",
       "      <td id=\"T_70157_row1_col4\" class=\"data row1 col4\" >-0.106584</td>\n",
       "      <td id=\"T_70157_row1_col5\" class=\"data row1 col5\" >0.276206</td>\n",
       "      <td id=\"T_70157_row1_col6\" class=\"data row1 col6\" >-0.242089</td>\n",
       "      <td id=\"T_70157_row1_col7\" class=\"data row1 col7\" >0.473165</td>\n",
       "    </tr>\n",
       "    <tr>\n",
       "      <th id=\"T_70157_level0_row2\" class=\"row_heading level0 row2\" >energy</th>\n",
       "      <td id=\"T_70157_row2_col0\" class=\"data row2 col0\" >-0.281619</td>\n",
       "      <td id=\"T_70157_row2_col1\" class=\"data row2 col1\" >-0.242032</td>\n",
       "      <td id=\"T_70157_row2_col2\" class=\"data row2 col2\" >1.000000</td>\n",
       "      <td id=\"T_70157_row2_col3\" class=\"data row2 col3\" >0.028238</td>\n",
       "      <td id=\"T_70157_row2_col4\" class=\"data row2 col4\" >0.113331</td>\n",
       "      <td id=\"T_70157_row2_col5\" class=\"data row2 col5\" >-0.109983</td>\n",
       "      <td id=\"T_70157_row2_col6\" class=\"data row2 col6\" >0.195227</td>\n",
       "      <td id=\"T_70157_row2_col7\" class=\"data row2 col7\" >0.038603</td>\n",
       "    </tr>\n",
       "    <tr>\n",
       "      <th id=\"T_70157_level0_row3\" class=\"row_heading level0 row3\" >instrumentalness</th>\n",
       "      <td id=\"T_70157_row3_col0\" class=\"data row3 col0\" >0.194780</td>\n",
       "      <td id=\"T_70157_row3_col1\" class=\"data row3 col1\" >-0.255217</td>\n",
       "      <td id=\"T_70157_row3_col2\" class=\"data row3 col2\" >0.028238</td>\n",
       "      <td id=\"T_70157_row3_col3\" class=\"data row3 col3\" >1.000000</td>\n",
       "      <td id=\"T_70157_row3_col4\" class=\"data row3 col4\" >-0.091022</td>\n",
       "      <td id=\"T_70157_row3_col5\" class=\"data row3 col5\" >-0.366762</td>\n",
       "      <td id=\"T_70157_row3_col6\" class=\"data row3 col6\" >0.022215</td>\n",
       "      <td id=\"T_70157_row3_col7\" class=\"data row3 col7\" >-0.219967</td>\n",
       "    </tr>\n",
       "    <tr>\n",
       "      <th id=\"T_70157_level0_row4\" class=\"row_heading level0 row4\" >liveness</th>\n",
       "      <td id=\"T_70157_row4_col0\" class=\"data row4 col0\" >-0.019991</td>\n",
       "      <td id=\"T_70157_row4_col1\" class=\"data row4 col1\" >-0.106584</td>\n",
       "      <td id=\"T_70157_row4_col2\" class=\"data row4 col2\" >0.113331</td>\n",
       "      <td id=\"T_70157_row4_col3\" class=\"data row4 col3\" >-0.091022</td>\n",
       "      <td id=\"T_70157_row4_col4\" class=\"data row4 col4\" >1.000000</td>\n",
       "      <td id=\"T_70157_row4_col5\" class=\"data row4 col5\" >0.041173</td>\n",
       "      <td id=\"T_70157_row4_col6\" class=\"data row4 col6\" >0.002732</td>\n",
       "      <td id=\"T_70157_row4_col7\" class=\"data row4 col7\" >-0.045093</td>\n",
       "    </tr>\n",
       "    <tr>\n",
       "      <th id=\"T_70157_level0_row5\" class=\"row_heading level0 row5\" >speechiness</th>\n",
       "      <td id=\"T_70157_row5_col0\" class=\"data row5 col0\" >0.072204</td>\n",
       "      <td id=\"T_70157_row5_col1\" class=\"data row5 col1\" >0.276206</td>\n",
       "      <td id=\"T_70157_row5_col2\" class=\"data row5 col2\" >-0.109983</td>\n",
       "      <td id=\"T_70157_row5_col3\" class=\"data row5 col3\" >-0.366762</td>\n",
       "      <td id=\"T_70157_row5_col4\" class=\"data row5 col4\" >0.041173</td>\n",
       "      <td id=\"T_70157_row5_col5\" class=\"data row5 col5\" >1.000000</td>\n",
       "      <td id=\"T_70157_row5_col6\" class=\"data row5 col6\" >0.008241</td>\n",
       "      <td id=\"T_70157_row5_col7\" class=\"data row5 col7\" >0.149894</td>\n",
       "    </tr>\n",
       "    <tr>\n",
       "      <th id=\"T_70157_level0_row6\" class=\"row_heading level0 row6\" >tempo</th>\n",
       "      <td id=\"T_70157_row6_col0\" class=\"data row6 col0\" >-0.026310</td>\n",
       "      <td id=\"T_70157_row6_col1\" class=\"data row6 col1\" >-0.242089</td>\n",
       "      <td id=\"T_70157_row6_col2\" class=\"data row6 col2\" >0.195227</td>\n",
       "      <td id=\"T_70157_row6_col3\" class=\"data row6 col3\" >0.022215</td>\n",
       "      <td id=\"T_70157_row6_col4\" class=\"data row6 col4\" >0.002732</td>\n",
       "      <td id=\"T_70157_row6_col5\" class=\"data row6 col5\" >0.008241</td>\n",
       "      <td id=\"T_70157_row6_col6\" class=\"data row6 col6\" >1.000000</td>\n",
       "      <td id=\"T_70157_row6_col7\" class=\"data row6 col7\" >0.052221</td>\n",
       "    </tr>\n",
       "    <tr>\n",
       "      <th id=\"T_70157_level0_row7\" class=\"row_heading level0 row7\" >valence</th>\n",
       "      <td id=\"T_70157_row7_col0\" class=\"data row7 col0\" >-0.013841</td>\n",
       "      <td id=\"T_70157_row7_col1\" class=\"data row7 col1\" >0.473165</td>\n",
       "      <td id=\"T_70157_row7_col2\" class=\"data row7 col2\" >0.038603</td>\n",
       "      <td id=\"T_70157_row7_col3\" class=\"data row7 col3\" >-0.219967</td>\n",
       "      <td id=\"T_70157_row7_col4\" class=\"data row7 col4\" >-0.045093</td>\n",
       "      <td id=\"T_70157_row7_col5\" class=\"data row7 col5\" >0.149894</td>\n",
       "      <td id=\"T_70157_row7_col6\" class=\"data row7 col6\" >0.052221</td>\n",
       "      <td id=\"T_70157_row7_col7\" class=\"data row7 col7\" >1.000000</td>\n",
       "    </tr>\n",
       "  </tbody>\n",
       "</table>\n"
      ],
      "text/plain": [
       "<pandas.io.formats.style.Styler at 0x1d023cf21b0>"
      ]
     },
     "execution_count": 9,
     "metadata": {},
     "output_type": "execute_result"
    }
   ],
   "source": [
    "# Create a correlation matrix\n",
    "corr_metrics = tracks.drop(['track_id', 'genre_top'], axis=1).corr()\n",
    "corr_metrics.style.background_gradient()"
   ]
  },
  {
   "cell_type": "markdown",
   "metadata": {},
   "source": [
    "We see that that not many features are correlated with each other. This is good in a way because it means that there is not much redundant or irrelevant information in our data.\n"
   ]
  },
  {
   "cell_type": "markdown",
   "metadata": {},
   "source": [
    "#### 3. Prepare the Data for Machine Learning Algorithms\n"
   ]
  },
  {
   "cell_type": "markdown",
   "metadata": {},
   "source": [
    "##### Create a Test Set\n"
   ]
  },
  {
   "cell_type": "code",
   "execution_count": 10,
   "metadata": {},
   "outputs": [],
   "source": [
    "from sklearn.model_selection import train_test_split\n",
    "\n",
    "# Create features\n",
    "features = tracks.drop(['genre_top', 'track_id'], axis=1)\n",
    "\n",
    "# Create labels\n",
    "labels = tracks['genre_top']\n",
    "\n",
    "# Split our data\n",
    "train_features, test_features, train_labels, test_labels = train_test_split(features, labels, random_state=42)"
   ]
  },
  {
   "cell_type": "markdown",
   "metadata": {},
   "source": [
    "##### Data cleaning\n"
   ]
  },
  {
   "cell_type": "code",
   "execution_count": 11,
   "metadata": {},
   "outputs": [
    {
     "data": {
      "text/plain": [
       "acousticness        0\n",
       "danceability        0\n",
       "energy              0\n",
       "instrumentalness    0\n",
       "liveness            0\n",
       "speechiness         0\n",
       "tempo               0\n",
       "valence             0\n",
       "dtype: int64"
      ]
     },
     "execution_count": 11,
     "metadata": {},
     "output_type": "execute_result"
    }
   ],
   "source": [
    "# Check for null entries\n",
    "features.isnull().sum()"
   ]
  },
  {
   "cell_type": "markdown",
   "metadata": {},
   "source": [
    "##### Feature scaling\n"
   ]
  },
  {
   "cell_type": "code",
   "execution_count": 12,
   "metadata": {},
   "outputs": [],
   "source": [
    "# Import the StandardScaler\n",
    "from sklearn.preprocessing import StandardScaler\n",
    "\n",
    "# Scale the features and set the values to a new variable\n",
    "scaler = StandardScaler()\n",
    "\n",
    "# Scale train_features and test_features\n",
    "scaled_train_features = scaler.fit_transform(train_features)\n",
    "scaled_test_features = scaler.transform(test_features)"
   ]
  },
  {
   "cell_type": "markdown",
   "metadata": {},
   "source": [
    "##### Principal Component Analysis\n",
    "\n",
    "PCA is a technique that finds the axes that account for the largest amount of variance in the training set. It is a powerful tool for dimensionality reduction. As our coorelation matrix shows that there is not much correlation between the features, we can use PCA to reduce the dimensionality of the dataset.\n"
   ]
  },
  {
   "cell_type": "code",
   "execution_count": 14,
   "metadata": {},
   "outputs": [
    {
     "data": {
      "text/plain": [
       "Text(0.5, 0, 'Principal Component')"
      ]
     },
     "execution_count": 14,
     "metadata": {},
     "output_type": "execute_result"
    },
    {
     "data": {
      "image/png": "[encoded data removed]",
      "text/plain": [
       "<Figure size 640x480 with 1 Axes>"
      ]
     },
     "metadata": {},
     "output_type": "display_data"
    }
   ],
   "source": [
    "%matplotlib inline\n",
    "\n",
    "import matplotlib.pyplot as plt\n",
    "from sklearn.decomposition import PCA\n",
    "\n",
    "# Get our explained variance ratios from PCA using all features\n",
    "pca = PCA()\n",
    "pca.fit(scaled_train_features)\n",
    "exp_variance = pca.explained_variance_ratio_\n",
    "\n",
    "# plot the explained variance using a barplot\n",
    "fig, ax = plt.subplots()\n",
    "ax.bar(range(8), exp_variance)\n",
    "ax.set_xlabel('Principal Component')"
   ]
  },
  {
   "cell_type": "markdown",
   "metadata": {},
   "source": [
    "There does not appear to be a clear elbow in the plot. Now we can use **cumulative explained variance** to determine the number of components to keep.\n",
    "\n",
    "CUMULATIVE EXPLAINED VARIANCE\n",
    "\n",
    "- The explained variance tells us how much information (variance) can be attributed to each of the principal components. The explained variance is used to determine the number of principal components to keep. The cumulative explained variance tells us the total amount of variance we'd capture if we kept the first n principal components.\n"
   ]
  },
  {
   "cell_type": "code",
   "execution_count": 15,
   "metadata": {},
   "outputs": [
    {
     "data": {
      "text/plain": [
       "<matplotlib.lines.Line2D at 0x1d0237f4650>"
      ]
     },
     "execution_count": 15,
     "metadata": {},
     "output_type": "execute_result"
    },
    {
     "data": {
      "image/png": "[encoded data removed]",
      "text/plain": [
       "<Figure size 640x480 with 1 Axes>"
      ]
     },
     "metadata": {},
     "output_type": "display_data"
    }
   ],
   "source": [
    "import numpy as np\n",
    "\n",
    "# Calculate the cumulative explained variance\n",
    "cum_exp_variance = np.cumsum(exp_variance)\n",
    "\n",
    "# Plot the cumulative explained variance and draw a dashed line at 0.85.\n",
    "fig, ax = plt.subplots()\n",
    "ax.plot(cum_exp_variance)\n",
    "# here we are drawing a dashed line at 0.85, it means we are checking how many components we need to explain 85% of the variance\n",
    "ax.axhline(y=0.85, linestyle='--')"
   ]
  },
  {
   "cell_type": "markdown",
   "metadata": {},
   "source": [
    "We saw from the plot that 6 features (remember indexing starts at 0) can explain 85% of the variance!\n",
    "\n",
    "Therefore, we can use 6 components to perform PCA and reduce the dimensionality of our train and test features.\n"
   ]
  },
  {
   "cell_type": "code",
   "execution_count": 17,
   "metadata": {},
   "outputs": [],
   "source": [
    "# Perform PCA with the chosen number of components and project data onto components\n",
    "pca = PCA(n_components=6, random_state=10)\n",
    "\n",
    "# Fit and transform the scaled training features using pca\n",
    "train_pca = pca.fit_transform(scaled_train_features)\n",
    "\n",
    "# Fit and transform the scaled test features using pca\n",
    "test_pca = pca.transform(scaled_test_features)"
   ]
  },
  {
   "cell_type": "markdown",
   "metadata": {},
   "source": [
    "#### 4. Select and Train a Model\n"
   ]
  },
  {
   "cell_type": "markdown",
   "metadata": {},
   "source": [
    "##### Training and Evaluating on the Training Set\n"
   ]
  },
  {
   "cell_type": "code",
   "execution_count": 18,
   "metadata": {},
   "outputs": [],
   "source": [
    "from sklearn.tree import DecisionTreeClassifier\n",
    "\n",
    "# Train our decision tree\n",
    "tree = DecisionTreeClassifier(random_state=42)\n",
    "tree.fit(train_pca, train_labels)\n",
    "\n",
    "# Predict the labels for the test data\n",
    "pred_labels_tree = tree.predict(test_pca)"
   ]
  },
  {
   "cell_type": "markdown",
   "metadata": {},
   "source": [
    "Evaluate the model using classification metrics such as accuracy, precision, recall, and F1 score.\n"
   ]
  },
  {
   "cell_type": "code",
   "execution_count": 19,
   "metadata": {},
   "outputs": [
    {
     "name": "stdout",
     "output_type": "stream",
     "text": [
      "Decision Tree: \n",
      "               precision    recall  f1-score   support\n",
      "\n",
      "     Hip-Hop       0.66      0.63      0.64       225\n",
      "        Rock       0.91      0.92      0.92       976\n",
      "\n",
      "    accuracy                           0.87      1201\n",
      "   macro avg       0.79      0.78      0.78      1201\n",
      "weighted avg       0.87      0.87      0.87      1201\n",
      "\n"
     ]
    }
   ],
   "source": [
    "# create classification report\n",
    "from sklearn.metrics import classification_report\n",
    "\n",
    "class_rep_tree = classification_report(test_labels, pred_labels_tree)\n",
    "\n",
    "print(\"Decision Tree: \\n\", class_rep_tree)"
   ]
  },
  {
   "cell_type": "markdown",
   "metadata": {},
   "source": [
    "Compare our decision tree to a logistic regression\n"
   ]
  },
  {
   "cell_type": "code",
   "execution_count": 20,
   "metadata": {},
   "outputs": [],
   "source": [
    "# Import LogisticRegression\n",
    "from sklearn.linear_model import LogisticRegression\n",
    "\n",
    "# Train our logistic regression and predict labels for the test set\n",
    "logreg = LogisticRegression(random_state=42)\n",
    "logreg.fit(train_pca, train_labels)\n",
    "pred_labels_logit = logreg.predict(test_pca)"
   ]
  },
  {
   "cell_type": "markdown",
   "metadata": {},
   "source": [
    "Evaluate it\n"
   ]
  },
  {
   "cell_type": "code",
   "execution_count": 21,
   "metadata": {},
   "outputs": [
    {
     "name": "stdout",
     "output_type": "stream",
     "text": [
      "Logistic Regression: \n",
      "               precision    recall  f1-score   support\n",
      "\n",
      "     Hip-Hop       0.78      0.54      0.64       225\n",
      "        Rock       0.90      0.96      0.93       976\n",
      "\n",
      "    accuracy                           0.89      1201\n",
      "   macro avg       0.84      0.75      0.79      1201\n",
      "weighted avg       0.88      0.89      0.88      1201\n",
      "\n"
     ]
    }
   ],
   "source": [
    "# create classification report\n",
    "from sklearn.metrics import classification_report\n",
    "\n",
    "class_rep_logit = classification_report(test_labels, pred_labels_logit)\n",
    "\n",
    "print(\"Logistic Regression: \\n\", class_rep_logit)"
   ]
  },
  {
   "cell_type": "markdown",
   "metadata": {},
   "source": [
    "From these results we see that the model is indeed biased towards the rock class. This is because the rock class is the majority class in our dataset. We can try to balance the dataset by using the class_weight parameter in the DecisionTreeClassifier.\n"
   ]
  },
  {
   "cell_type": "markdown",
   "metadata": {},
   "source": [
    "##### Balance our data for better performance\n"
   ]
  },
  {
   "cell_type": "code",
   "execution_count": 22,
   "metadata": {},
   "outputs": [],
   "source": [
    "# Subset only the hip-hop tracks, and then only the rock tracks\n",
    "hop_only = tracks.loc[tracks['genre_top'] == 'Hip-Hop']\n",
    "rock_only = tracks.loc[tracks['genre_top'] == 'Rock']\n",
    "\n",
    "# sample the rocks songs to be the same number as there are hip-hop songs\n",
    "rock_only = rock_only.sample(hop_only.shape[0], random_state=10)\n",
    "\n",
    "# concatenate the dataframes rock_only and hop_only\n",
    "rock_hop_bal = pd.concat([rock_only, hop_only])\n",
    "\n",
    "# The features, labels, and pca projection are created for the balanced dataframe\n",
    "features = rock_hop_bal.drop(['genre_top', 'track_id'], axis=1)\n",
    "labels = rock_hop_bal['genre_top']\n",
    "\n",
    "# Redefine the train and test set with the pca_projection from the balanced data\n",
    "train_features, test_features, train_labels, test_labels = train_test_split(features, labels, random_state=10)\n",
    "\n",
    "train_pca = pca.fit_transform(scaler.fit_transform(train_features))\n",
    "test_pca = pca.transform(scaler.transform(test_features))"
   ]
  },
  {
   "cell_type": "markdown",
   "metadata": {},
   "source": [
    "During balancing we have lost many data. Let's test the model again."
   ]
  },
  {
   "cell_type": "code",
   "execution_count": 23,
   "metadata": {},
   "outputs": [
    {
     "name": "stdout",
     "output_type": "stream",
     "text": [
      "Decision Tree: \n",
      "               precision    recall  f1-score   support\n",
      "\n",
      "     Hip-Hop       0.82      0.77      0.79       230\n",
      "        Rock       0.78      0.83      0.80       225\n",
      "\n",
      "    accuracy                           0.80       455\n",
      "   macro avg       0.80      0.80      0.80       455\n",
      "weighted avg       0.80      0.80      0.80       455\n",
      "\n",
      "Logistic Regression: \n",
      "               precision    recall  f1-score   support\n",
      "\n",
      "     Hip-Hop       0.84      0.80      0.82       230\n",
      "        Rock       0.81      0.85      0.83       225\n",
      "\n",
      "    accuracy                           0.82       455\n",
      "   macro avg       0.82      0.82      0.82       455\n",
      "weighted avg       0.83      0.82      0.82       455\n",
      "\n"
     ]
    }
   ],
   "source": [
    "# Train our decision tree on the balanced data\n",
    "tree = DecisionTreeClassifier(random_state=10)\n",
    "tree.fit(train_pca, train_labels)\n",
    "pred_labels_tree = tree.predict(test_pca)\n",
    "\n",
    "# Train our logistic regression on the balanced data\n",
    "logreg = LogisticRegression(random_state=10)\n",
    "logreg.fit(train_pca, train_labels)\n",
    "pred_labels_logit = logreg.predict(test_pca)\n",
    "\n",
    "# Compare the models\n",
    "print(\"Decision Tree: \\n\", classification_report(test_labels, pred_labels_tree))\n",
    "print(\"Logistic Regression: \\n\", classification_report(test_labels, pred_labels_logit))"
   ]
  },
  {
   "cell_type": "markdown",
   "metadata": {},
   "source": [
    "Using cross-validation to evaluate our models\n"
   ]
  },
  {
   "cell_type": "code",
   "execution_count": 24,
   "metadata": {},
   "outputs": [
    {
     "name": "stdout",
     "output_type": "stream",
     "text": [
      "Scores:  [0.76642336 0.8540146  0.82481752 0.77372263 0.80291971 0.80147059\n",
      " 0.81617647 0.73529412 0.84558824 0.79411765]\n",
      "Mean:  0.8014544869042508\n",
      "Standard Deviation:  0.03449975066480958\n"
     ]
    }
   ],
   "source": [
    "from sklearn.model_selection import cross_val_score\n",
    "\n",
    "scores = cross_val_score(tree, train_pca, train_labels, cv=10)\n",
    "\n",
    "# Print the accuracy for each fold\n",
    "print(\"Scores: \", scores)\n",
    "print(\"Mean: \", scores.mean())\n",
    "print(\"Standard Deviation: \", scores.std())"
   ]
  },
  {
   "cell_type": "code",
   "execution_count": 25,
   "metadata": {},
   "outputs": [
    {
     "name": "stdout",
     "output_type": "stream",
     "text": [
      "Scores:  [0.79562044 0.83941606 0.84671533 0.80291971 0.74452555 0.83088235\n",
      " 0.85294118 0.81617647 0.85294118 0.86764706]\n",
      "Mean:  0.8249785315586088\n",
      "Standard Deviation:  0.03463936511157637\n"
     ]
    }
   ],
   "source": [
    "scores = cross_val_score(logreg, train_pca, train_labels, cv=10)\n",
    "\n",
    "# Print the accuracy for each fold\n",
    "print(\"Scores: \", scores)\n",
    "print(\"Mean: \", scores.mean())\n",
    "print(\"Standard Deviation: \", scores.std())"
   ]
  },
  {
   "cell_type": "code",
   "execution_count": 2,
   "metadata": {},
   "outputs": [
    {
     "name": "stdout",
     "output_type": "stream",
     "text": [
      "hello\n",
      "Noneone\n"
     ]
    }
   ],
   "source": [
    "print(str(print(\"hello\"))+\"one\")"
   ]
  },
  {
   "cell_type": "code",
   "execution_count": null,
   "metadata": {},
   "outputs": [],
   "source": []
  }
 ],
 "metadata": {
  "kernelspec": {
   "display_name": ".songs-env",
   "language": "python",
   "name": "python3"
  },
  "language_info": {
   "codemirror_mode": {
    "name": "ipython",
    "version": 3
   },
   "file_extension": ".py",
   "mimetype": "text/x-python",
   "name": "python",
   "nbconvert_exporter": "python",
   "pygments_lexer": "ipython3",
   "version": "3.12.4"
  }
 },
 "nbformat": 4,
 "nbformat_minor": 2
}
